{
 "cells": [
  {
   "cell_type": "code",
   "execution_count": 1,
   "id": "20af5e7f",
   "metadata": {},
   "outputs": [],
   "source": [
    "import numpy as np\n",
    "import pandas as pd\n",
    "import seaborn as sns\n",
    "import datetime\n",
    "\n",
    "from sklearn.linear_model import Ridge\n",
    "from sklearn.linear_model import LinearRegression\n",
    "from sklearn.linear_model import Lasso\n",
    "\n",
    "from sklearn.compose import ColumnTransformer\n",
    "from sklearn.metrics import mean_squared_error\n",
    "from sklearn.model_selection import GridSearchCV\n",
    "from sklearn.preprocessing import MinMaxScaler, StandardScaler, MaxAbsScaler\n",
    "from sklearn.preprocessing import OneHotEncoder\n",
    "\n",
    "from matplotlib import pyplot as plt"
   ]
  },
  {
   "cell_type": "markdown",
   "id": "717a223c",
   "metadata": {},
   "source": [
    "### Preparing data"
   ]
  },
  {
   "cell_type": "code",
   "execution_count": 2,
   "id": "6c6c5b1c",
   "metadata": {},
   "outputs": [],
   "source": [
    "# Dowloading data\n",
    "df = pd.read_csv('train.zip', compression='zip', header=0, sep=',', quotechar='\"')"
   ]
  },
  {
   "cell_type": "code",
   "execution_count": 3,
   "id": "d39ad04f",
   "metadata": {},
   "outputs": [
    {
     "data": {
      "text/html": [
       "<div>\n",
       "<style scoped>\n",
       "    .dataframe tbody tr th:only-of-type {\n",
       "        vertical-align: middle;\n",
       "    }\n",
       "\n",
       "    .dataframe tbody tr th {\n",
       "        vertical-align: top;\n",
       "    }\n",
       "\n",
       "    .dataframe thead th {\n",
       "        text-align: right;\n",
       "    }\n",
       "</style>\n",
       "<table border=\"1\" class=\"dataframe\">\n",
       "  <thead>\n",
       "    <tr style=\"text-align: right;\">\n",
       "      <th></th>\n",
       "      <th>id</th>\n",
       "      <th>vendor_id</th>\n",
       "      <th>pickup_datetime</th>\n",
       "      <th>dropoff_datetime</th>\n",
       "      <th>passenger_count</th>\n",
       "      <th>pickup_longitude</th>\n",
       "      <th>pickup_latitude</th>\n",
       "      <th>dropoff_longitude</th>\n",
       "      <th>dropoff_latitude</th>\n",
       "      <th>store_and_fwd_flag</th>\n",
       "      <th>trip_duration</th>\n",
       "    </tr>\n",
       "  </thead>\n",
       "  <tbody>\n",
       "    <tr>\n",
       "      <th>0</th>\n",
       "      <td>id2875421</td>\n",
       "      <td>2</td>\n",
       "      <td>2016-03-14 17:24:55</td>\n",
       "      <td>2016-03-14 17:32:30</td>\n",
       "      <td>1</td>\n",
       "      <td>-73.982155</td>\n",
       "      <td>40.767937</td>\n",
       "      <td>-73.964630</td>\n",
       "      <td>40.765602</td>\n",
       "      <td>N</td>\n",
       "      <td>455</td>\n",
       "    </tr>\n",
       "    <tr>\n",
       "      <th>1</th>\n",
       "      <td>id2377394</td>\n",
       "      <td>1</td>\n",
       "      <td>2016-06-12 00:43:35</td>\n",
       "      <td>2016-06-12 00:54:38</td>\n",
       "      <td>1</td>\n",
       "      <td>-73.980415</td>\n",
       "      <td>40.738564</td>\n",
       "      <td>-73.999481</td>\n",
       "      <td>40.731152</td>\n",
       "      <td>N</td>\n",
       "      <td>663</td>\n",
       "    </tr>\n",
       "  </tbody>\n",
       "</table>\n",
       "</div>"
      ],
      "text/plain": [
       "          id  vendor_id      pickup_datetime     dropoff_datetime  \\\n",
       "0  id2875421          2  2016-03-14 17:24:55  2016-03-14 17:32:30   \n",
       "1  id2377394          1  2016-06-12 00:43:35  2016-06-12 00:54:38   \n",
       "\n",
       "   passenger_count  pickup_longitude  pickup_latitude  dropoff_longitude  \\\n",
       "0                1        -73.982155        40.767937         -73.964630   \n",
       "1                1        -73.980415        40.738564         -73.999481   \n",
       "\n",
       "   dropoff_latitude store_and_fwd_flag  trip_duration  \n",
       "0         40.765602                  N            455  \n",
       "1         40.731152                  N            663  "
      ]
     },
     "execution_count": 3,
     "metadata": {},
     "output_type": "execute_result"
    }
   ],
   "source": [
    "df[:2]"
   ]
  },
  {
   "cell_type": "markdown",
   "id": "3ccccbee",
   "metadata": {},
   "source": [
    "- id - a unique identifier for each trip\n",
    "- vendor_id - a code indicating the provider associated with the trip record\n",
    "- pickup_datetime - date and time when the meter was engaged\n",
    "- dropoff_datetime - date and time when the meter was disengaged\n",
    "- passenger_count - the number of passengers in the vehicle (driver entered value)\n",
    "- pickup_longitude - the longitude where the meter was engaged\n",
    "- pickup_latitude - the latitude where the meter was engaged\n",
    "- dropoff_longitude - the longitude where the meter was disengaged\n",
    "- dropoff_latitude - the latitude where the meter was disengaged\n",
    "- store_and_fwd_flag - This flag indicates whether the trip record was held in vehicle memory before sending to the vendor because the vehicle did not have a connection to the server - Y=store and forward; N=not a store and forward trip\n",
    "- trip_duration - duration of the trip in seconds"
   ]
  },
  {
   "cell_type": "code",
   "execution_count": 4,
   "id": "3bd49a67",
   "metadata": {},
   "outputs": [
    {
     "data": {
      "text/html": [
       "<div>\n",
       "<style scoped>\n",
       "    .dataframe tbody tr th:only-of-type {\n",
       "        vertical-align: middle;\n",
       "    }\n",
       "\n",
       "    .dataframe tbody tr th {\n",
       "        vertical-align: top;\n",
       "    }\n",
       "\n",
       "    .dataframe thead th {\n",
       "        text-align: right;\n",
       "    }\n",
       "</style>\n",
       "<table border=\"1\" class=\"dataframe\">\n",
       "  <thead>\n",
       "    <tr style=\"text-align: right;\">\n",
       "      <th></th>\n",
       "      <th>id</th>\n",
       "      <th>vendor_id</th>\n",
       "      <th>pickup_datetime</th>\n",
       "      <th>passenger_count</th>\n",
       "      <th>pickup_longitude</th>\n",
       "      <th>pickup_latitude</th>\n",
       "      <th>dropoff_longitude</th>\n",
       "      <th>dropoff_latitude</th>\n",
       "      <th>store_and_fwd_flag</th>\n",
       "      <th>trip_duration</th>\n",
       "    </tr>\n",
       "  </thead>\n",
       "  <tbody>\n",
       "    <tr>\n",
       "      <th>96469</th>\n",
       "      <td>id0190469</td>\n",
       "      <td>2</td>\n",
       "      <td>2016-01-01 00:00:17</td>\n",
       "      <td>5</td>\n",
       "      <td>-73.981743</td>\n",
       "      <td>40.719158</td>\n",
       "      <td>-73.938828</td>\n",
       "      <td>40.829182</td>\n",
       "      <td>N</td>\n",
       "      <td>849</td>\n",
       "    </tr>\n",
       "    <tr>\n",
       "      <th>223872</th>\n",
       "      <td>id1665586</td>\n",
       "      <td>1</td>\n",
       "      <td>2016-01-01 00:00:53</td>\n",
       "      <td>1</td>\n",
       "      <td>-73.985085</td>\n",
       "      <td>40.747166</td>\n",
       "      <td>-73.958038</td>\n",
       "      <td>40.717491</td>\n",
       "      <td>N</td>\n",
       "      <td>1294</td>\n",
       "    </tr>\n",
       "    <tr>\n",
       "      <th>713067</th>\n",
       "      <td>id1210365</td>\n",
       "      <td>2</td>\n",
       "      <td>2016-01-01 00:01:01</td>\n",
       "      <td>5</td>\n",
       "      <td>-73.965279</td>\n",
       "      <td>40.801041</td>\n",
       "      <td>-73.947479</td>\n",
       "      <td>40.815170</td>\n",
       "      <td>N</td>\n",
       "      <td>408</td>\n",
       "    </tr>\n",
       "    <tr>\n",
       "      <th>652463</th>\n",
       "      <td>id3888279</td>\n",
       "      <td>1</td>\n",
       "      <td>2016-01-01 00:01:14</td>\n",
       "      <td>1</td>\n",
       "      <td>-73.982292</td>\n",
       "      <td>40.751331</td>\n",
       "      <td>-73.991341</td>\n",
       "      <td>40.750340</td>\n",
       "      <td>N</td>\n",
       "      <td>280</td>\n",
       "    </tr>\n",
       "    <tr>\n",
       "      <th>722901</th>\n",
       "      <td>id0924227</td>\n",
       "      <td>1</td>\n",
       "      <td>2016-01-01 00:01:20</td>\n",
       "      <td>1</td>\n",
       "      <td>-73.970108</td>\n",
       "      <td>40.759800</td>\n",
       "      <td>-73.989357</td>\n",
       "      <td>40.742989</td>\n",
       "      <td>N</td>\n",
       "      <td>736</td>\n",
       "    </tr>\n",
       "  </tbody>\n",
       "</table>\n",
       "</div>"
      ],
      "text/plain": [
       "               id  vendor_id     pickup_datetime  passenger_count  \\\n",
       "96469   id0190469          2 2016-01-01 00:00:17                5   \n",
       "223872  id1665586          1 2016-01-01 00:00:53                1   \n",
       "713067  id1210365          2 2016-01-01 00:01:01                5   \n",
       "652463  id3888279          1 2016-01-01 00:01:14                1   \n",
       "722901  id0924227          1 2016-01-01 00:01:20                1   \n",
       "\n",
       "        pickup_longitude  pickup_latitude  dropoff_longitude  \\\n",
       "96469         -73.981743        40.719158         -73.938828   \n",
       "223872        -73.985085        40.747166         -73.958038   \n",
       "713067        -73.965279        40.801041         -73.947479   \n",
       "652463        -73.982292        40.751331         -73.991341   \n",
       "722901        -73.970108        40.759800         -73.989357   \n",
       "\n",
       "        dropoff_latitude store_and_fwd_flag  trip_duration  \n",
       "96469          40.829182                  N            849  \n",
       "223872         40.717491                  N           1294  \n",
       "713067         40.815170                  N            408  \n",
       "652463         40.750340                  N            280  \n",
       "722901         40.742989                  N            736  "
      ]
     },
     "execution_count": 4,
     "metadata": {},
     "output_type": "execute_result"
    }
   ],
   "source": [
    "# Drop the 'dropoff_datetime' column from the DataFrame.\n",
    "df = df.drop('dropoff_datetime', axis=1)\n",
    "\n",
    "# Convert the 'pickup_datetime' column to datetime objects.\n",
    "df.pickup_datetime = pd.to_datetime(df.pickup_datetime)\n",
    "\n",
    "# Sort the DataFrame by the 'pickup_datetime' column.\n",
    "df = df.sort_values(by='pickup_datetime')\n",
    "\n",
    "# Display the first 5 rows of the DataFrame.\n",
    "df.head()"
   ]
  },
  {
   "cell_type": "code",
   "execution_count": 5,
   "id": "ad48fed3",
   "metadata": {},
   "outputs": [],
   "source": [
    "# Split the DataFrame into training and testing sets.\n",
    "# Take the first 1 million rows for training.\n",
    "df_train = df[:10**6] \n",
    "\n",
    "# Take the remaining rows for testing.\n",
    "df_test = df[10**6:] "
   ]
  },
  {
   "cell_type": "code",
   "execution_count": 6,
   "id": "173a9609",
   "metadata": {},
   "outputs": [
    {
     "data": {
      "text/plain": [
       "<Axes: >"
      ]
     },
     "execution_count": 6,
     "metadata": {},
     "output_type": "execute_result"
    },
    {
     "data": {
      "image/png": "[encoded data removed]",
      "text/plain": [
       "<Figure size 640x480 with 1 Axes>"
      ]
     },
     "metadata": {},
     "output_type": "display_data"
    }
   ],
   "source": [
    "# Plot a histogram of the 'trip_duration' column in the training set.\n",
    "df_train.trip_duration.hist(bins=100, grid=False,)"
   ]
  },
  {
   "cell_type": "code",
   "execution_count": 7,
   "id": "2348ffeb",
   "metadata": {},
   "outputs": [
    {
     "data": {
      "text/plain": [
       "<Axes: >"
      ]
     },
     "execution_count": 7,
     "metadata": {},
     "output_type": "execute_result"
    },
    {
     "data": {
      "image/png": "[encoded data removed]",
      "text/plain": [
       "<Figure size 640x480 with 1 Axes>"
      ]
     },
     "metadata": {},
     "output_type": "display_data"
    }
   ],
   "source": [
    "# Plot a histogram of the log-transformed 'trip_duration' in the training set.\n",
    "np.log1p(df_train.trip_duration).hist(bins=100, grid = False)"
   ]
  },
  {
   "cell_type": "code",
   "execution_count": 8,
   "id": "2e80b4a4",
   "metadata": {},
   "outputs": [
    {
     "name": "stderr",
     "output_type": "stream",
     "text": [
      "C:\\Users\\Yuriy Podmogaev\\AppData\\Local\\Temp\\ipykernel_9652\\2574982898.py:3: SettingWithCopyWarning: \n",
      "A value is trying to be set on a copy of a slice from a DataFrame.\n",
      "Try using .loc[row_indexer,col_indexer] = value instead\n",
      "\n",
      "See the caveats in the documentation: https://pandas.pydata.org/pandas-docs/stable/user_guide/indexing.html#returning-a-view-versus-a-copy\n",
      "  df_train['log_trip_duration'] = np.log1p(df_train.trip_duration)\n",
      "C:\\Users\\Yuriy Podmogaev\\AppData\\Local\\Temp\\ipykernel_9652\\2574982898.py:4: SettingWithCopyWarning: \n",
      "A value is trying to be set on a copy of a slice from a DataFrame.\n",
      "Try using .loc[row_indexer,col_indexer] = value instead\n",
      "\n",
      "See the caveats in the documentation: https://pandas.pydata.org/pandas-docs/stable/user_guide/indexing.html#returning-a-view-versus-a-copy\n",
      "  df_test['log_trip_duration'] = np.log1p(df_test.trip_duration)\n"
     ]
    }
   ],
   "source": [
    "# Create a new column 'log_trip_duration' in both training and testing sets, \n",
    "# containing the log-transformed 'trip_duration' values.\n",
    "df_train['log_trip_duration'] = np.log1p(df_train.trip_duration)\n",
    "df_test['log_trip_duration'] = np.log1p(df_test.trip_duration)"
   ]
  },
  {
   "cell_type": "code",
   "execution_count": 9,
   "id": "50661caf",
   "metadata": {},
   "outputs": [],
   "source": [
    "# Convert the 'pickup_datetime' column to datetime objects.\n",
    "df.pickup_datetime = pd.to_datetime(df.pickup_datetime)"
   ]
  },
  {
   "cell_type": "code",
   "execution_count": 10,
   "id": "a7f73365",
   "metadata": {},
   "outputs": [],
   "source": [
    "def create_features(data_frame):\n",
    "    \"\"\"\n",
    "    Extracts 'day' and 'hour' features from the 'pickup_datetime' column.\n",
    "\n",
    "    Args:\n",
    "        data_frame: A Pandas DataFrame containing the data.\n",
    "\n",
    "    Returns:\n",
    "        A tuple containing the feature matrix (X) and the target variable (y).\n",
    "    \"\"\"\n",
    "    # Extract 'day' and 'hour' features using lambda functions.\n",
    "    X = pd.concat([\n",
    "        data_frame.pickup_datetime.apply(lambda x: x.timetuple().tm_yday),\n",
    "        data_frame.pickup_datetime.apply(lambda x: x.hour),\n",
    "        ], axis= 1, keys=['day', 'hour',]\n",
    "    )\n",
    "\n",
    "    # Return the feature matrix (X) and the log-transformed trip duration (y).\n",
    "    return X, data_frame.log_trip_duration"
   ]
  },
  {
   "cell_type": "code",
   "execution_count": 11,
   "id": "b8d8b9f6",
   "metadata": {},
   "outputs": [],
   "source": [
    "# Call the 'create_features' function to extract features from the training set.\n",
    "X_train, y_train = create_features(df_train)\n",
    "\n",
    "# Call the 'create_features' function to extract features from the testing set.\n",
    "X_test, y_test = create_features(df_test)"
   ]
  },
  {
   "cell_type": "code",
   "execution_count": 12,
   "id": "8912501f",
   "metadata": {},
   "outputs": [],
   "source": [
    "# Create a ColumnTransformer object to apply one-hot encoding to the specified feature.\n",
    "ohe = ColumnTransformer([(\"One hot\", OneHotEncoder(), [1])], remainder=\"passthrough\") "
   ]
  },
  {
   "cell_type": "code",
   "execution_count": 13,
   "id": "fd78bdd3",
   "metadata": {},
   "outputs": [],
   "source": [
    "# Call the 'create_features' function to extract features from the training set.\n",
    "X_train, y_train = create_features(df_train)\n",
    "\n",
    "# Call the 'create_features' function to extract features from the testing set.\n",
    "X_test, y_test = create_features(df_test)"
   ]
  },
  {
   "cell_type": "markdown",
   "id": "a7954b4e",
   "metadata": {},
   "source": [
    "### Let's use the LinearRegression class and train the model."
   ]
  },
  {
   "cell_type": "code",
   "execution_count": 14,
   "id": "99fac796",
   "metadata": {},
   "outputs": [
    {
     "data": {
      "text/plain": [
       "0.6619213022706769"
      ]
     },
     "execution_count": 14,
     "metadata": {},
     "output_type": "execute_result"
    }
   ],
   "source": [
    "# Create a LinearRegression object.\n",
    "lin_reg = LinearRegression() \n",
    "\n",
    "# Fit the linear regression model to the training data.\n",
    "lin_reg.fit(X_train, y_train)\n",
    "\n",
    "# Calculate the mean squared error between the model's predictions on the testing data and the actual values.\n",
    "mean_squared_error(lin_reg.predict(X_test), y_test)"
   ]
  },
  {
   "cell_type": "markdown",
   "id": "2eaa90a5",
   "metadata": {},
   "source": [
    "### Let's use the Ridge class and train the model."
   ]
  },
  {
   "cell_type": "code",
   "execution_count": 15,
   "id": "2bff1396",
   "metadata": {},
   "outputs": [
    {
     "data": {
      "text/plain": [
       "0.6619213120943772"
      ]
     },
     "execution_count": 15,
     "metadata": {},
     "output_type": "execute_result"
    }
   ],
   "source": [
    "# Create a Ridge regression model with a regularization strength of 1000\n",
    "ridge = Ridge(alpha=1000).fit(X_train, y_train)\n",
    "\n",
    "# Predict the target values for the test set using the trained model\n",
    "predictions = ridge.predict(X_test)\n",
    "\n",
    "# Calculate the mean squared error between the predicted and actual values\n",
    "mean_squared_error(predictions, y_test)"
   ]
  },
  {
   "cell_type": "code",
   "execution_count": 16,
   "id": "8006e4f4",
   "metadata": {},
   "outputs": [
    {
     "data": {
      "text/plain": [
       "0.6619213071922814"
      ]
     },
     "execution_count": 16,
     "metadata": {},
     "output_type": "execute_result"
    }
   ],
   "source": [
    "# Define the parameter grid for grid search\n",
    "param_grid = {'alpha': np.linspace(1, 501, 10)}\n",
    "\n",
    "# Create a GridSearchCV object with the model, parameter grid, and cross-validation folds\n",
    "grid_searcher = GridSearchCV(ridge,\n",
    "                            param_grid=param_grid,\n",
    "                            cv=3)\n",
    "\n",
    "# Fit the grid search to the training data\n",
    "grid_searcher.fit(X_train, y_train)\n",
    "\n",
    "# Get the predictions on the test data using the best model found by grid search\n",
    "predictions = grid_searcher.predict(X_test)\n",
    "\n",
    "# Calculate the mean squared error between the predictions and the actual test values\n",
    "mean_squared_error(predictions, y_test)"
   ]
  },
  {
   "cell_type": "code",
   "execution_count": 17,
   "id": "5ac13b6d",
   "metadata": {},
   "outputs": [
    {
     "data": {
      "text/plain": [
       "{'alpha': 501.0}"
      ]
     },
     "execution_count": 17,
     "metadata": {},
     "output_type": "execute_result"
    }
   ],
   "source": [
    "grid_searcher.best_params_"
   ]
  },
  {
   "cell_type": "code",
   "execution_count": null,
   "id": "2b6da6cb",
   "metadata": {},
   "outputs": [],
   "source": []
  },
  {
   "cell_type": "code",
   "execution_count": 18,
   "id": "a7ed4662",
   "metadata": {},
   "outputs": [],
   "source": [
    "def create_features(data_frame):\n",
    "    \"\"\"\n",
    "    Creates features from the given DataFrame.\n",
    "\n",
    "    Args:\n",
    "        data_frame: The DataFrame containing the data.\n",
    "\n",
    "    Returns:\n",
    "        A tuple containing the feature matrix (X) and the target variable (y).\n",
    "    \"\"\"\n",
    "    # Extract day of year from pickup datetime\n",
    "    X = pd.concat([\n",
    "        data_frame.pickup_datetime.apply(lambda x: x.timetuple().tm_yday),  # Day of year\n",
    "        \n",
    "        # Extract hour from pickup datetime\n",
    "        data_frame.pickup_datetime.apply(lambda x: x.hour),  # Hour of day\n",
    "        \n",
    "        # Create a feature indicating if the date is in a specific range\n",
    "        data_frame.pickup_datetime.dt.date.apply(lambda x: 1 if any(str(x) == item for item in ['2016-01-23', '2016-01-24']) else 0),  # In specific date range\n",
    "        \n",
    "        # Extract weekday from pickup datetime\n",
    "        data_frame.pickup_datetime.dt.weekday,  # Day of week\n",
    "        ], axis= 1, keys=['day', 'hour', 'in', 'week']\n",
    "    )\n",
    "    \n",
    "    # Extract the log trip duration as the target variable\n",
    "    y = data_frame.log_trip_duration\n",
    "\n",
    "    return X, y"
   ]
  },
  {
   "cell_type": "code",
   "execution_count": 19,
   "id": "5fddd994",
   "metadata": {},
   "outputs": [],
   "source": [
    "# Create features for the training set\n",
    "X_train, y_train = create_features(df_train)\n",
    "\n",
    "# Create features for the testing set\n",
    "X_test, y_test = create_features(df_test)"
   ]
  },
  {
   "cell_type": "code",
   "execution_count": 20,
   "id": "870672ba",
   "metadata": {},
   "outputs": [],
   "source": [
    "# Create a ColumnTransformer object to perform one-hot encoding on specified columns\n",
    "ohe = ColumnTransformer([\n",
    "    # Apply OneHotEncoder to the columns 'hour', 'in', and 'week'\n",
    "    (\"One hot\", OneHotEncoder(), ['hour','in','week'])\n",
    "], \n",
    "    # Pass through the remaining columns without transformation\n",
    "    remainder=\"passthrough\")\n",
    "\n",
    "# Fit the ColumnTransformer to the training data to learn the unique values for encoding\n",
    "X_train = ohe.fit_transform(X_train)\n",
    "\n",
    "# Transform the test data using the learned encoding from the training data\n",
    "X_test = ohe.transform(X_test)"
   ]
  },
  {
   "cell_type": "code",
   "execution_count": 21,
   "id": "ed3f1f81",
   "metadata": {},
   "outputs": [],
   "source": [
    "# Create a MaxAbsScaler object\n",
    "scaler = MaxAbsScaler()\n",
    "\n",
    "# Fit the scaler to the training data\n",
    "# This calculates the maximum absolute value for each feature in the training data\n",
    "scaler.fit(X_train)\n",
    "\n",
    "# Transform the training data using the fitted scaler\n",
    "# This scales the training data by dividing each feature by its maximum absolute value\n",
    "X_train = scaler.transform(X_train)\n",
    "\n",
    "# Transform the test data using the same scaler\n",
    "# This ensures that both the training and test data are scaled using the same scaling parameters\n",
    "X_test = scaler.transform(X_test)"
   ]
  },
  {
   "cell_type": "code",
   "execution_count": 22,
   "id": "a266ea6a",
   "metadata": {},
   "outputs": [],
   "source": [
    "# Create Lasso Regression model\n",
    "model = Lasso(alpha=2.65e-05)\n",
    "\n",
    "# Fit the model\n",
    "model.fit(X_train, y_train)\n",
    "\n",
    "# Make predictions\n",
    "predictions = model.predict(X_test)\n",
    "\n",
    "# Calculate MSE\n",
    "mse = mean_squared_error(y_test, predictions)"
   ]
  },
  {
   "cell_type": "code",
   "execution_count": 24,
   "id": "313edd93",
   "metadata": {},
   "outputs": [
    {
     "name": "stdout",
     "output_type": "stream",
     "text": [
      "MSE: 0.6504014165969954\n",
      "Number of selected features: 31\n"
     ]
    }
   ],
   "source": [
    "# Find number of selected features\n",
    "selected_features = np.sum(abs(model.coef_) > 1e-6) \n",
    "\n",
    "print(f\"MSE: {mse}\")\n",
    "print(f\"Number of selected features: {selected_features}\")"
   ]
  },
  {
   "cell_type": "code",
   "execution_count": null,
   "id": "6fc7688b",
   "metadata": {},
   "outputs": [],
   "source": []
  }
 ],
 "metadata": {
  "kernelspec": {
   "display_name": "Python 3 (ipykernel)",
   "language": "python",
   "name": "python3"
  },
  "language_info": {
   "codemirror_mode": {
    "name": "ipython",
    "version": 3
   },
   "file_extension": ".py",
   "mimetype": "text/x-python",
   "name": "python",
   "nbconvert_exporter": "python",
   "pygments_lexer": "ipython3",
   "version": "3.11.5"
  }
 },
 "nbformat": 4,
 "nbformat_minor": 5
}
